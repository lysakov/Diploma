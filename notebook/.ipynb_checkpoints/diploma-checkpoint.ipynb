{
 "cells": [
  {
   "cell_type": "code",
   "execution_count": 1,
   "metadata": {},
   "outputs": [],
   "source": [
    "import neal\n",
    "import matplotlib.pyplot as plt\n",
    "from sympy import Matrix, zeros, ones, eye\n",
    "from scipy import optimize \n",
    "from random import randint\n",
    "from math import log2\n",
    "from dwave.cloud import Client"
   ]
  },
  {
   "cell_type": "code",
   "execution_count": 93,
   "metadata": {},
   "outputs": [],
   "source": [
    "class SympyMatrixFactory(object):\n",
    "    \n",
    "    def getMatrix(self, data):\n",
    "        return Matrix(data)\n",
    "    \n",
    "    def getOnes(self, n, k):\n",
    "        return ones(n, k)\n",
    "    \n",
    "    def getZeros(self, n, k):\n",
    "        return zeros(n, k)\n",
    "    \n",
    "    def getEye(self, n):\n",
    "        return eye(n)\n",
    "\n",
    "class VariableChanger(object):\n",
    "    \n",
    "    def __init__(self, B, t, k=None, gamma=1, matrixFactory=SympyMatrixFactory()):\n",
    "        self.B = B\n",
    "        self.t = t\n",
    "        self.matrixFactory = matrixFactory\n",
    "        self.n = B.shape[0]\n",
    "        \n",
    "        if k is None:\n",
    "            self.k = int(log2(2 * gamma * self.n**(1/2) * abs(B.det())**(1/self.n) + sum(abs(t[i]) for i in range(self.n))))\n",
    "        else:\n",
    "            self.k = k\n",
    "            \n",
    "        self.T = self.__create_transition_matrix(self.n, self.k)\n",
    "        self.d = 2**self.k * self.matrixFactory.getOnes(self.n, 1)\n",
    "        \n",
    "    def __create_transition_matrix(self, n, k):\n",
    "        data = [[0 for i in range((self.k + 1)*self.n)] for j in range(self.n)]\n",
    "        T = self.matrixFactory.getMatrix(data)\n",
    "        for i in range(self.n):\n",
    "            T[i, i*(self.k+1):i*(self.k+1)+self.k+1] = self.matrixFactory.getMatrix([[2**j for j in range(self.k+1)]])\n",
    "        \n",
    "        return T\n",
    "    \n",
    "    \"\"\"Computing quadratic form's coefficients in QUBO variables\"\"\"\n",
    "    def change_quadratic_form(self):\n",
    "        quadratic_part = self.T.T @ self.B.T @ self.B @ self.T\n",
    "        linear_part = -2 * self.d.T @ self.B.T @ self.B @ self.T - 2 * self.t.T @ self.B @ self.T\n",
    "        const = self.d.T @ self.B.T @ self.B @ self.d + 2 * self.d.T @ self.B.T @ self.t + self.t.T @ self.t\n",
    "        \n",
    "        return quadratic_part, linear_part, const[0]\n",
    "    \n",
    "    \"\"\"Going from integer variables to QUBO ones\"\"\"\n",
    "    def straight_change_variables(self, x):\n",
    "        res = self.matrixFactory.getZeros(self.n*(self.k + 1), 1)\n",
    "        \n",
    "        for i in range(len(x)):\n",
    "            bin_repr = list(bin(x[i] + 2**self.k)[2:].zfill(self.k+1)[::-1])\n",
    "            bin_repr = list(map(lambda el: [int(el)], bin_repr))\n",
    "            res[(self.k+1)*i:(self.k+1)*(i+1), 0] = bin_repr\n",
    "        \n",
    "        return res\n",
    "    \n",
    "    \"\"\"Going from QUBO variables to integer ones\"\"\"\n",
    "    def backward_change_variables(self, x):\n",
    "        return self.T@x - self.d\n",
    "    \n",
    "def compute_form(Q, L, C, x):\n",
    "    return (x.T@Q@x)[0] + (L@x)[0] + C"
   ]
  },
  {
   "cell_type": "code",
   "execution_count": 3,
   "metadata": {},
   "outputs": [
    {
     "name": "stdout",
     "output_type": "stream",
     "text": [
      "True\n",
      "True\n",
      "True\n"
     ]
    }
   ],
   "source": [
    "\"\"\"Tests for VariableChanger class\"\"\"\n",
    "n = 5\n",
    "N = 16\n",
    "B = Matrix([[randint(-2**(N-1), 2**(N-1)-1) for _ in range(n)] for _ in range(n)], dtype=object)\n",
    "t = Matrix([[randint(-2**(N-1), 2**(N-1)-1)] for _ in range(n)])\n",
    "var_changer = VariableChanger(B, t)\n",
    "\n",
    "\"\"\"Test for variable changing methods\"\"\"\n",
    "x = Matrix([[randint(-2**(N-1), 2**(N-1)-1)] for _ in range(n)])\n",
    "x1 = var_changer.straight_change_variables(x)\n",
    "print(x == var_changer.backward_change_variables(x1))\n",
    "\n",
    "\"\"\"Test for quadratic form's coefficients computing method\"\"\"\n",
    "q, l, c = var_changer.change_quadratic_form()\n",
    "norm1 = compute_form(B.T@B, -2*t.T@B, (t.T@t)[0], x)\n",
    "norm2 = compute_form(q, l, c, x1)\n",
    "norm3 = (B@x - t).dot(B@x - t)\n",
    "print(norm1 == norm2)\n",
    "print(norm2 == norm3)"
   ]
  },
  {
   "cell_type": "code",
   "execution_count": 94,
   "metadata": {},
   "outputs": [],
   "source": [
    "class VectorSet(object):\n",
    "    \n",
    "    def __init__(self, norm, vectors, prob):\n",
    "        self.norm = norm\n",
    "        self.vectors = vectors\n",
    "        self.prob = prob\n",
    "        \n",
    "class Solver(object):\n",
    "    \n",
    "    def __init__(self, B, t, gamma=1, matrix_factory=SympyMatrixFactory(), sampler=neal.SimulatedAnnealingSampler(), k=None):\n",
    "        self.B, self.t = B, t\n",
    "        self.matrix_factory = matrix_factory\n",
    "        self.var_changer = VariableChanger(B, t, k, gamma, matrix_factory)\n",
    "        self.sampler = sampler\n",
    "        \n",
    "    def __norm(self, x):\n",
    "        return ((self.B@x - self.t).T @ (self.B@x - self.t))[0]\n",
    "        \n",
    "    def __generate_qubo_input(self, quadratic, linear):\n",
    "        Q = {}\n",
    "    \n",
    "        for i in range(quadratic.shape[0]):\n",
    "            for j in range(i, quadratic.shape[1]):\n",
    "                tmp = (f\"x_{i}\", f\"x_{j}\")\n",
    "                Q[tmp] = int(quadratic[i, j] + linear[i]) if i == j else int(2*quadratic[i, j])\n",
    "            \n",
    "        return Q\n",
    "\n",
    "    def __dict_to_vector(self, vec_repr):\n",
    "        vec = self.matrix_factory.getZeros(len(vec_repr), 1)\n",
    "        \n",
    "        for record in list(vec_repr.items()):\n",
    "            vec[int(record[0][2:])] = record[1]\n",
    "            \n",
    "        return vec\n",
    "    \n",
    "    def __interpret_qubo_output(self, sampleset, const, **params):\n",
    "        res = {}\n",
    "    \n",
    "        for sample in sampleset.data():\n",
    "            x = self.var_changer.backward_change_variables(self.__dict_to_vector(sample.sample))\n",
    "            val = self.__norm(x)\n",
    "            #print(sample)\n",
    "        \n",
    "            if val in res:\n",
    "                res[val][0].append(x)\n",
    "                res[val][1] += sample.num_occurrences/params[\"num_reads\"]\n",
    "            else:\n",
    "                res[val] = [[x], sample.num_occurrences/params[\"num_reads\"]]\n",
    "        \n",
    "        return list(map(lambda x: VectorSet(x[0], x[1][0], x[1][1]), res.items()))\n",
    "    \n",
    "    def solve(self, **params):\n",
    "        q, l, c = self.var_changer.change_quadratic_form()\n",
    "        Q = self.__generate_qubo_input(q, l)\n",
    "\n",
    "        '''\n",
    "        if params[\"annealing_time\"]:\n",
    "            self.sampler.parameters[\"annealing_time\"]=params[\"annealing_time\"]\n",
    "            params.pop(\"annealing_time\")\n",
    "        '''\n",
    "            \n",
    "        sampleset = self.sampler.sample_qubo(Q, **params)\n",
    "        \n",
    "        return self.__interpret_qubo_output(sampleset, c, **params)"
   ]
  },
  {
   "cell_type": "code",
   "execution_count": 5,
   "metadata": {},
   "outputs": [],
   "source": [
    "class LatticeFactory(object):\n",
    "    \n",
    "    def __init__(self, matrix_factory=SympyMatrixFactory()):\n",
    "        self.matrix_factory = matrix_factory\n",
    "        \n",
    "    def get_lattice(self, dim, bit_length):\n",
    "        B = self.matrix_factory.getEye(dim)\n",
    "        k = dim - 1\n",
    "        bound = 2**bit_length - 1\n",
    "        \n",
    "        while k >= 0:\n",
    "            B[k, dim - 1] = randint(2**(bit_length-1), bound)\n",
    "            bound = B[k, dim - 1]\n",
    "            k -= 1\n",
    "            \n",
    "        return B.T\n",
    "    \n",
    "    def get_vector(self, dim, bit_length):\n",
    "        return self.matrix_factory.getMatrix([[randint(-2**bit_length, 2**bit_length - 1)] for _ in range(dim)])\n",
    "    \n",
    "    def get_zero_vector(self, dim):\n",
    "        return self.matrix_factory.getMatrix([[0] for _ in range(dim)])"
   ]
  },
  {
   "cell_type": "code",
   "execution_count": 114,
   "metadata": {},
   "outputs": [],
   "source": [
    "\"\"\"Class computes probabilities of ground and first two energy states\"\"\"\n",
    "class TestInteractor(object):\n",
    "    \n",
    "    def __init__(self, B, t, sampler):\n",
    "        self.B = B\n",
    "        self.t = t\n",
    "        self.sampler = sampler\n",
    "        self.first_min = []\n",
    "        self.second_min = []\n",
    "        self.third_min = []\n",
    "        self.T = []\n",
    "        \n",
    "    def compute_probabilities(self, time_bounds, **params):\n",
    "        self.first_min.clear()\n",
    "        self.second_min.clear()\n",
    "        self.third_min.clear()\n",
    "        self.T.clear()\n",
    "\n",
    "        for i in range(time_bounds[0], time_bounds[1]+1):\n",
    "            k = None\n",
    "            if \"k\" in params:\n",
    "                k = params[\"k\"]\n",
    "                params.pop(\"k\")\n",
    "            solver = Solver(B, t, 1, sampler=self.sampler, k=k)\n",
    "            params[\"annealing_time\"] = 2**i\n",
    "            res = solver.solve(**params)\n",
    "            res.sort(key=lambda x: x.norm)\n",
    "            self.T.append(2**i)\n",
    "            self.first_min.append(res[0].prob)\n",
    "            self.second_min.append(res[1].prob)\n",
    "            self.third_min.append(res[2].prob)\n",
    "            print(f\"annealing time = {2**i} is done\")\n",
    "    \n",
    "    def show_plot(self, show=True, image_name=None, legend_loc=\"best\", xlim=None, ylim=None):\n",
    "        plt.clf()\n",
    "        plt.xscale(\"log\", base=2)\n",
    "        \n",
    "        if ylim is not None:\n",
    "            plt.ylim(ylim)\n",
    "        if xlim is not None:\n",
    "            plt.xlim(xlim)\n",
    "            \n",
    "        plt.plot(self.T, self.first_min, \".r-\", label=r\"ground state\")\n",
    "        plt.plot(self.T, self.second_min, \".b-\", label=r\"first energy level\")\n",
    "        plt.plot(self.T, self.third_min, \".g-\", label=r\"second energy level\")\n",
    "        plt.legend(loc=legend_loc)\n",
    "        \n",
    "        if image_name is not None:\n",
    "            plt.savefig(image_name, dpi=300, bbox_inches='tight')\n",
    "        if show:\n",
    "            plt.show()"
   ]
  },
  {
   "cell_type": "code",
   "execution_count": 108,
   "metadata": {},
   "outputs": [
    {
     "name": "stdout",
     "output_type": "stream",
     "text": [
      "Matrix([[1, 0, 0], [0, 1, 0], [10, 10, 12]])\n",
      "Matrix([[0], [0], [0]])\n"
     ]
    }
   ],
   "source": [
    "lattice_factory = LatticeFactory()\n",
    "B = lattice_factory.get_lattice(3, 4)\n",
    "t = lattice_factory.get_zero_vector(3)\n",
    "print(B)\n",
    "print(t)"
   ]
  },
  {
   "cell_type": "code",
   "execution_count": 109,
   "metadata": {},
   "outputs": [
    {
     "name": "stdout",
     "output_type": "stream",
     "text": [
      "annealing time = 4 is done\n",
      "annealing time = 8 is done\n",
      "annealing time = 16 is done\n",
      "annealing time = 32 is done\n",
      "annealing time = 64 is done\n",
      "annealing time = 128 is done\n",
      "annealing time = 256 is done\n",
      "annealing time = 512 is done\n",
      "annealing time = 1024 is done\n",
      "annealing time = 2048 is done\n",
      "annealing time = 4096 is done\n",
      "annealing time = 8192 is done\n",
      "annealing time = 16384 is done\n",
      "annealing time = 32768 is done\n",
      "annealing time = 65536 is done\n",
      "annealing time = 131072 is done\n",
      "annealing time = 262144 is done\n",
      "annealing time = 524288 is done\n",
      "annealing time = 1048576 is done\n",
      "annealing time = 2097152 is done\n",
      "annealing time = 4194304 is done\n",
      "annealing time = 8388608 is done\n",
      "annealing time = 16777216 is done\n",
      "annealing time = 33554432 is done\n"
     ]
    }
   ],
   "source": [
    "simulated_test_interactor = TestInteractor(B, t, neal.SimulatedAnnealingSampler())\n",
    "simulated_test_interactor.compute_probabilities((2, 25), num_reads=1000, k=2)"
   ]
  },
  {
   "cell_type": "code",
   "execution_count": 110,
   "metadata": {},
   "outputs": [
    {
     "data": {
      "image/png": "[encoded data removed]",
      "text/plain": [
       "<Figure size 432x288 with 1 Axes>"
      ]
     },
     "metadata": {
      "needs_background": "light"
     },
     "output_type": "display_data"
    }
   ],
   "source": [
    "simulated_test_interactor.show_plot(image_name=\"energy_levels_simulated.png\")"
   ]
  },
  {
   "cell_type": "code",
   "execution_count": 115,
   "metadata": {},
   "outputs": [
    {
     "name": "stdout",
     "output_type": "stream",
     "text": [
      "annealing time = 4 is done\n",
      "annealing time = 8 is done\n",
      "annealing time = 16 is done\n",
      "annealing time = 32 is done\n",
      "annealing time = 64 is done\n",
      "annealing time = 128 is done\n",
      "annealing time = 256 is done\n"
     ]
    }
   ],
   "source": [
    "from dwave.system import DWaveSampler, EmbeddingComposite\n",
    "\n",
    "token = 'DEV-4af643c96b2465094a3361dc41943e85db46c025'\n",
    "sampler = EmbeddingComposite(DWaveSampler(token=token, solver={'topology__type': 'chimera'}))\n",
    "quantum_test_interactor = TestInteractor(B, t, sampler)\n",
    "quantum_test_interactor.compute_probabilities((2, 8), num_reads=1000)"
   ]
  },
  {
   "cell_type": "code",
   "execution_count": 116,
   "metadata": {},
   "outputs": [
    {
     "data": {
      "image/png": "[encoded data removed]",
      "text/plain": [
       "<Figure size 432x288 with 1 Axes>"
      ]
     },
     "metadata": {
      "needs_background": "light"
     },
     "output_type": "display_data"
    }
   ],
   "source": [
    "quantum_test_interactor.show_plot(image_name=\"energy_levels_quantum.png\")"
   ]
  },
  {
   "cell_type": "code",
   "execution_count": 90,
   "metadata": {},
   "outputs": [
    {
     "name": "stdout",
     "output_type": "stream",
     "text": [
      "[0.001, 0.001, 0.004, 0.005, 0.01, 0.004, 0.004]\n",
      "[0.077, 0.027, 0.030000000000000002, 0.029, 0.14, 0.04100000000000001, 0.045]\n",
      "[0.094, 0.014, 0.016, 0.017, 0.065, 0.011, 0.022000000000000002]\n"
     ]
    }
   ],
   "source": [
    "print(quantum_test_interactor.first_min)\n",
    "print(quantum_test_interactor.second_min)\n",
    "print(quantum_test_interactor.third_min)"
   ]
  },
  {
   "cell_type": "code",
   "execution_count": 111,
   "metadata": {},
   "outputs": [],
   "source": [
    "quantum_sampler = EmbeddingComposite(DWaveSampler(token=token))\n",
    "quantum_solver = Solver(B, t, sampler=quantum_sampler, k=2)\n",
    "res = quantum_solver.solve(num_reads=1000, annealing_time=512)"
   ]
  },
  {
   "cell_type": "code",
   "execution_count": 112,
   "metadata": {},
   "outputs": [
    {
     "name": "stdout",
     "output_type": "stream",
     "text": [
      "0.005 0\n",
      "0.02 2\n",
      "0.049999999999999996 5\n",
      "0.018000000000000002 8\n",
      "0.059 9\n",
      "0.081 17\n",
      "0.029 18\n",
      "0.025 20\n",
      "0.026000000000000002 24\n",
      "0.078 26\n",
      "0.01 29\n",
      "0.012 32\n",
      "0.009000000000000001 36\n",
      "0.06 41\n",
      "0.052 45\n",
      "0.016 53\n",
      "0.024 66\n",
      "0.027999999999999997 68\n",
      "0.015 72\n",
      "0.042 74\n",
      "0.012 84\n",
      "0.016 101\n",
      "0.015 105\n",
      "0.023 113\n",
      "0.005 125\n",
      "0.008 144\n",
      "0.031 146\n",
      "0.019 152\n",
      "0.024 162\n",
      "0.011 197\n",
      "0.013000000000000001 201\n",
      "0.031 209\n",
      "0.008 213\n",
      "0.003 221\n",
      "0.007 258\n",
      "0.009000000000000001 260\n",
      "0.003 264\n",
      "0.023 266\n",
      "0.002 272\n",
      "0.004 276\n",
      "0.016 329\n",
      "0.007 333\n",
      "0.001 341\n",
      "0.003 402\n",
      "0.004 404\n",
      "0.004 410\n",
      "0.001 420\n",
      "0.001 485\n",
      "0.004 489\n",
      "0.001 497\n",
      "0.002 576\n",
      "0.003 578\n",
      "0.003 594\n",
      "0.002 677\n",
      "0.002 681\n",
      "0.003 689\n",
      "0.001 693\n",
      "0.001 786\n",
      "0.002 794\n",
      "0.001 800\n",
      "0.008 905\n",
      "0.001 909\n",
      "0.001 1028\n",
      "0.001 1298\n",
      "0.001 1610\n"
     ]
    }
   ],
   "source": [
    "for i in res:\n",
    "    print(i.prob, i.norm)"
   ]
  },
  {
   "cell_type": "code",
   "execution_count": null,
   "metadata": {},
   "outputs": [],
   "source": []
  },
  {
   "cell_type": "code",
   "execution_count": null,
   "metadata": {},
   "outputs": [],
   "source": []
  }
 ],
 "metadata": {
  "kernelspec": {
   "display_name": "Python 3 (ipykernel)",
   "language": "python",
   "name": "python3"
  },
  "language_info": {
   "codemirror_mode": {
    "name": "ipython",
    "version": 3
   },
   "file_extension": ".py",
   "mimetype": "text/x-python",
   "name": "python",
   "nbconvert_exporter": "python",
   "pygments_lexer": "ipython3",
   "version": "3.9.6"
  }
 },
 "nbformat": 4,
 "nbformat_minor": 4
}
